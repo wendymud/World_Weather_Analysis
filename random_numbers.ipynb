{
 "cells": [
  {
   "cell_type": "code",
   "execution_count": 1,
   "id": "eb7026e8",
   "metadata": {},
   "outputs": [
    {
     "data": {
      "text/plain": [
       "11"
      ]
     },
     "execution_count": 1,
     "metadata": {},
     "output_type": "execute_result"
    }
   ],
   "source": [
    "# Import the random module.\n",
    "import random\n",
    "random.random()\n",
    "\n",
    "random.randint(-90, 89)\n"
   ]
  },
  {
   "cell_type": "code",
   "execution_count": 2,
   "id": "a71ceb4e",
   "metadata": {},
   "outputs": [
    {
     "data": {
      "text/plain": [
       "85.15958848588629"
      ]
     },
     "execution_count": 2,
     "metadata": {},
     "output_type": "execute_result"
    }
   ],
   "source": [
    "random_number = random.randint(-90, 89) + random.random()\n",
    "random_number\n"
   ]
  },
  {
   "cell_type": "code",
   "execution_count": 3,
   "id": "d898d2e7",
   "metadata": {},
   "outputs": [
    {
     "data": {
      "text/plain": [
       "[89.14984194684932,\n",
       " 14.658198016807265,\n",
       " -0.5864348334946801,\n",
       " -29.76173899279596,\n",
       " 84.42298587882918,\n",
       " -28.586771786767347,\n",
       " -71.89899451071152,\n",
       " 86.79723896426594,\n",
       " -2.532488768681722,\n",
       " 78.31430913303703]"
      ]
     },
     "execution_count": 3,
     "metadata": {},
     "output_type": "execute_result"
    }
   ],
   "source": [
    "x = 1\n",
    "latitudes = []\n",
    "while x < 11:\n",
    "    random_lat = random.randint(-90, 89) + random.random()\n",
    "    latitudes.append(random_lat)\n",
    "    x += 1\n",
    "latitudes\n"
   ]
  },
  {
   "cell_type": "code",
   "execution_count": 4,
   "id": "89f72271",
   "metadata": {},
   "outputs": [
    {
     "data": {
      "text/plain": [
       "52"
      ]
     },
     "execution_count": 4,
     "metadata": {},
     "output_type": "execute_result"
    }
   ],
   "source": [
    "random.randrange(-90, 90, step=1)"
   ]
  },
  {
   "cell_type": "code",
   "execution_count": 5,
   "id": "5362305c",
   "metadata": {},
   "outputs": [
    {
     "data": {
      "text/plain": [
       "-75"
      ]
     },
     "execution_count": 5,
     "metadata": {},
     "output_type": "execute_result"
    }
   ],
   "source": [
    "random.randrange(-90, 90, step=3)\n"
   ]
  },
  {
   "cell_type": "code",
   "execution_count": 6,
   "id": "66dcb203",
   "metadata": {},
   "outputs": [
    {
     "data": {
      "text/plain": [
       "-77.39725618930203"
      ]
     },
     "execution_count": 6,
     "metadata": {},
     "output_type": "execute_result"
    }
   ],
   "source": [
    "random.uniform(-90, 90)"
   ]
  },
  {
   "cell_type": "code",
   "execution_count": 7,
   "id": "1e3da0c3",
   "metadata": {},
   "outputs": [
    {
     "data": {
      "text/plain": [
       "array([-12.9993282 ,   7.62583982,  31.72637808, ...,  89.22311978,\n",
       "       -75.14481127,  84.24790535])"
      ]
     },
     "execution_count": 7,
     "metadata": {},
     "output_type": "execute_result"
    }
   ],
   "source": [
    "import numpy as np\n",
    "\n",
    "np.random.uniform(-90.000, 90.000, size=1500)"
   ]
  },
  {
   "cell_type": "code",
   "execution_count": 8,
   "id": "72b001a7",
   "metadata": {},
   "outputs": [],
   "source": [
    "# Import timeit.\n",
    "import timeit\n",
    "%timeit"
   ]
  },
  {
   "cell_type": "code",
   "execution_count": 9,
   "id": "55b0c547",
   "metadata": {},
   "outputs": [
    {
     "data": {
      "text/plain": [
       "array([-47.00651028,  18.40124863, -39.09398134, ...,  77.26905099,\n",
       "        -2.87624656, -84.91834951])"
      ]
     },
     "execution_count": 9,
     "metadata": {},
     "output_type": "execute_result"
    }
   ],
   "source": [
    "np.random.uniform(-90.000, 90.000, size=1500)"
   ]
  },
  {
   "cell_type": "code",
   "execution_count": 10,
   "id": "24f288a2",
   "metadata": {},
   "outputs": [
    {
     "name": "stdout",
     "output_type": "stream",
     "text": [
      "1.55 ms ± 5.7 µs per loop (mean ± std. dev. of 7 runs, 1000 loops each)\n"
     ]
    }
   ],
   "source": [
    "def latitudes(size):\n",
    "    latitudes = []\n",
    "    x = 0\n",
    "    while x < (size):\n",
    "        random_lat = random.randint(-90, 90) + random.random()\n",
    "        latitudes.append(random_lat)\n",
    "        x += 1\n",
    "    return latitudes\n",
    "# Call the function with 1500.\n",
    "%timeit latitudes(1500)"
   ]
  },
  {
   "cell_type": "code",
   "execution_count": null,
   "id": "d9508cdb",
   "metadata": {},
   "outputs": [],
   "source": []
  }
 ],
 "metadata": {
  "kernelspec": {
   "display_name": "PythonData",
   "language": "python",
   "name": "pythondata"
  },
  "language_info": {
   "codemirror_mode": {
    "name": "ipython",
    "version": 3
   },
   "file_extension": ".py",
   "mimetype": "text/x-python",
   "name": "python",
   "nbconvert_exporter": "python",
   "pygments_lexer": "ipython3",
   "version": "3.7.10"
  }
 },
 "nbformat": 4,
 "nbformat_minor": 5
}
